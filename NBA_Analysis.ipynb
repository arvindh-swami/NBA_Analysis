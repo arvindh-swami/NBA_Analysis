{
 "cells": [
  {
   "cell_type": "code",
   "execution_count": 1,
   "metadata": {},
   "outputs": [],
   "source": [
    "import numpy as np\n",
    "import matplotlib.pyplot as plt\n",
    "import pandas as pd"
   ]
  },
  {
   "cell_type": "code",
   "execution_count": 2,
   "metadata": {},
   "outputs": [],
   "source": [
    "players = pd.read_csv(\"Players.csv\")\n",
    "player_data = pd.read_csv(\"player_data.csv\")\n",
    "seasons_stats = pd.read_csv(\"Seasons_Stats.csv\")"
   ]
  },
  {
   "cell_type": "code",
   "execution_count": 3,
   "metadata": {},
   "outputs": [
    {
     "data": {
      "text/html": [
       "<div>\n",
       "<style scoped>\n",
       "    .dataframe tbody tr th:only-of-type {\n",
       "        vertical-align: middle;\n",
       "    }\n",
       "\n",
       "    .dataframe tbody tr th {\n",
       "        vertical-align: top;\n",
       "    }\n",
       "\n",
       "    .dataframe thead th {\n",
       "        text-align: right;\n",
       "    }\n",
       "</style>\n",
       "<table border=\"1\" class=\"dataframe\">\n",
       "  <thead>\n",
       "    <tr style=\"text-align: right;\">\n",
       "      <th></th>\n",
       "      <th>name</th>\n",
       "      <th>year_start</th>\n",
       "      <th>year_end</th>\n",
       "      <th>position</th>\n",
       "      <th>height</th>\n",
       "      <th>weight</th>\n",
       "      <th>birth_date</th>\n",
       "      <th>college</th>\n",
       "    </tr>\n",
       "  </thead>\n",
       "  <tbody>\n",
       "    <tr>\n",
       "      <th>0</th>\n",
       "      <td>Alaa Abdelnaby</td>\n",
       "      <td>1991</td>\n",
       "      <td>1995</td>\n",
       "      <td>F-C</td>\n",
       "      <td>6-10</td>\n",
       "      <td>240.0</td>\n",
       "      <td>June 24, 1968</td>\n",
       "      <td>Duke University</td>\n",
       "    </tr>\n",
       "    <tr>\n",
       "      <th>1</th>\n",
       "      <td>Zaid Abdul-Aziz</td>\n",
       "      <td>1969</td>\n",
       "      <td>1978</td>\n",
       "      <td>C-F</td>\n",
       "      <td>6-9</td>\n",
       "      <td>235.0</td>\n",
       "      <td>April 7, 1946</td>\n",
       "      <td>Iowa State University</td>\n",
       "    </tr>\n",
       "    <tr>\n",
       "      <th>2</th>\n",
       "      <td>Kareem Abdul-Jabbar</td>\n",
       "      <td>1970</td>\n",
       "      <td>1989</td>\n",
       "      <td>C</td>\n",
       "      <td>7-2</td>\n",
       "      <td>225.0</td>\n",
       "      <td>April 16, 1947</td>\n",
       "      <td>University of California, Los Angeles</td>\n",
       "    </tr>\n",
       "    <tr>\n",
       "      <th>3</th>\n",
       "      <td>Mahmoud Abdul-Rauf</td>\n",
       "      <td>1991</td>\n",
       "      <td>2001</td>\n",
       "      <td>G</td>\n",
       "      <td>6-1</td>\n",
       "      <td>162.0</td>\n",
       "      <td>March 9, 1969</td>\n",
       "      <td>Louisiana State University</td>\n",
       "    </tr>\n",
       "    <tr>\n",
       "      <th>4</th>\n",
       "      <td>Tariq Abdul-Wahad</td>\n",
       "      <td>1998</td>\n",
       "      <td>2003</td>\n",
       "      <td>F</td>\n",
       "      <td>6-6</td>\n",
       "      <td>223.0</td>\n",
       "      <td>November 3, 1974</td>\n",
       "      <td>San Jose State University</td>\n",
       "    </tr>\n",
       "  </tbody>\n",
       "</table>\n",
       "</div>"
      ],
      "text/plain": [
       "                  name  year_start  year_end position height  weight  \\\n",
       "0       Alaa Abdelnaby        1991      1995      F-C   6-10   240.0   \n",
       "1      Zaid Abdul-Aziz        1969      1978      C-F    6-9   235.0   \n",
       "2  Kareem Abdul-Jabbar        1970      1989        C    7-2   225.0   \n",
       "3   Mahmoud Abdul-Rauf        1991      2001        G    6-1   162.0   \n",
       "4    Tariq Abdul-Wahad        1998      2003        F    6-6   223.0   \n",
       "\n",
       "         birth_date                                college  \n",
       "0     June 24, 1968                        Duke University  \n",
       "1     April 7, 1946                  Iowa State University  \n",
       "2    April 16, 1947  University of California, Los Angeles  \n",
       "3     March 9, 1969             Louisiana State University  \n",
       "4  November 3, 1974              San Jose State University  "
      ]
     },
     "execution_count": 3,
     "metadata": {},
     "output_type": "execute_result"
    }
   ],
   "source": [
    "player_data.head()"
   ]
  },
  {
   "cell_type": "code",
   "execution_count": 4,
   "metadata": {},
   "outputs": [],
   "source": [
    "# Average Career Length for players based on decade\n",
    "# Store career lengths for each player in dictionary\n",
    "career_length = {}\n",
    "for index, row in player_data.iterrows():\n",
    "    key = row['year_start'] - (row['year_start']%10) # decade in which player was in the NBA\n",
    "    value = row['year_end'] - row['year_start'] + 1 # duration of player's career in the NBA\n",
    "    if key != 2010:\n",
    "        career_length[key] = career_length.setdefault(key,[])\n",
    "        career_length[key].append(value)"
   ]
  },
  {
   "cell_type": "code",
   "execution_count": 5,
   "metadata": {},
   "outputs": [
    {
     "name": "stdout",
     "output_type": "stream",
     "text": [
      "1990\n",
      "6.83744557329463\n",
      "1960\n",
      "4.966597077244259\n",
      "1970\n",
      "5.046715328467153\n",
      "1950\n",
      "3.4322916666666665\n",
      "1940\n",
      "2.6372881355932205\n",
      "2000\n",
      "6.657474600870827\n",
      "1980\n",
      "6.556782334384858\n"
     ]
    }
   ],
   "source": [
    "# Calculate mean career length for each decade\n",
    "for key in career_length:\n",
    "    mean = sum(career_length[key]) / len(career_length[key])\n",
    "    career_length[key] = mean\n",
    "    print(key)\n",
    "    print(mean)"
   ]
  },
  {
   "cell_type": "code",
   "execution_count": 6,
   "metadata": {},
   "outputs": [
    {
     "data": {
      "image/png": "[encoded data removed]",
      "text/plain": [
       "<Figure size 432x288 with 1 Axes>"
      ]
     },
     "metadata": {},
     "output_type": "display_data"
    }
   ],
   "source": [
    "plt.bar(list(career_length.keys()), list(career_length.values()), width=5)\n",
    "plt.xlabel('Decade', fontsize=15)\n",
    "plt.ylabel('Career Length', fontsize=15)\n",
    "plt.title('Average Career Length for NBA players')\n",
    "plt.show()"
   ]
  },
  {
   "cell_type": "code",
   "execution_count": 7,
   "metadata": {},
   "outputs": [],
   "source": [
    "# Average Career Length for players based on position\n",
    "g_career_length = {}\n",
    "f_career_length = {}\n",
    "c_career_length = {}\n",
    "for index, row in player_data.iterrows():\n",
    "    key = row['year_start'] - (row['year_start']%10) # decade in which player was in the NBA\n",
    "    value = row['year_end'] - row['year_start'] + 1 # duration of player's career in the NBA\n",
    "    position = str(row['position'])[0] # Get the primary position of each player\n",
    "    if key != 2010:\n",
    "        if \"G\" == position:\n",
    "            g_career_length[key - 2] = g_career_length.setdefault(key - 2,[])\n",
    "            g_career_length[key - 2].append(value)\n",
    "        if 'F' == position:\n",
    "            f_career_length[key] = f_career_length.setdefault(key,[])\n",
    "            f_career_length[key].append(value)\n",
    "        if 'C' == position:\n",
    "            c_career_length[key + 2] = c_career_length.setdefault(key + 2,[])\n",
    "            c_career_length[key + 2].append(value)"
   ]
  },
  {
   "cell_type": "code",
   "execution_count": 8,
   "metadata": {},
   "outputs": [],
   "source": [
    "# Calculate mean career lengths for each position\n",
    "for key in g_career_length:\n",
    "    mean = sum(g_career_length[key]) / len(g_career_length[key])\n",
    "    g_career_length[key] = mean\n",
    "for key in f_career_length:\n",
    "    mean = sum(f_career_length[key]) / len(f_career_length[key])\n",
    "    f_career_length[key] = mean\n",
    "for key in c_career_length:\n",
    "    mean = sum(c_career_length[key]) / len(c_career_length[key])\n",
    "    c_career_length[key] = mean"
   ]
  },
  {
   "cell_type": "code",
   "execution_count": 9,
   "metadata": {},
   "outputs": [
    {
     "data": {
      "image/png": "[encoded data removed]",
      "text/plain": [
       "<Figure size 432x288 with 1 Axes>"
      ]
     },
     "metadata": {},
     "output_type": "display_data"
    }
   ],
   "source": [
    "plt.bar(list(g_career_length.keys()), list(g_career_length.values()), color = 'b', width=2)\n",
    "plt.bar(list(f_career_length.keys()), list(f_career_length.values()), color = 'g', width=2)\n",
    "plt.bar(list(c_career_length.keys()), list(c_career_length.values()), color = 'r', width=2)\n",
    "plt.xlabel('Decade', fontsize=15)\n",
    "plt.ylabel('Career Length', fontsize=15)\n",
    "plt.title('Average Career Length for NBA players based on position')\n",
    "plt.legend(['Guards', 'Forwards', 'Center'])\n",
    "plt.show()"
   ]
  },
  {
   "cell_type": "code",
   "execution_count": null,
   "metadata": {},
   "outputs": [],
   "source": []
  }
 ],
 "metadata": {
  "kernelspec": {
   "display_name": "Python 3",
   "language": "python",
   "name": "python3"
  },
  "language_info": {
   "codemirror_mode": {
    "name": "ipython",
    "version": 3
   },
   "file_extension": ".py",
   "mimetype": "text/x-python",
   "name": "python",
   "nbconvert_exporter": "python",
   "pygments_lexer": "ipython3",
   "version": "3.6.5"
  }
 },
 "nbformat": 4,
 "nbformat_minor": 2
}
